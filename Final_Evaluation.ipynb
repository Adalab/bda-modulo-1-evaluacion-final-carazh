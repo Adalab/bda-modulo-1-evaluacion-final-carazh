{
 "cells": [
  {
   "cell_type": "code",
   "execution_count": 161,
   "metadata": {},
   "outputs": [],
   "source": [
    "class OnlineShop: \n",
    "    def __init__(self):\n",
    "        self.inventory = []\n",
    "#1. Adding product        \n",
    "    def add_product(self, name, price, quantity):\n",
    "        for product in self.inventory: # declaramos el bucle / iniciamos\n",
    "            if product['name'] == name:  # si el producto existe (comprobamos que el nombre esta ya en el carrito)\n",
    "                product['quantity'] += quantity # aumentamos la cantidad\n",
    "                print(f\"quantity of {name} updated {product['quantity']}\")\n",
    "                print(f'Inventory updated{self.inventory}')\n",
    "                return\n",
    "            \n",
    "        new_product = {'name': name,'price': price, 'quantity':quantity}\n",
    "            \n",
    "        self.inventory.append(new_product)\n",
    "        print(f'Inventory updated {self.inventory}')\n",
    "\n",
    "#2. Check inventory\n",
    "    def check_inventory(self):\n",
    "        if self.inventory:\n",
    "            print(f'Inventory is not empty, showing content: {self.inventory}')\n",
    "        else:\n",
    "            print(f'Inventory is empty')\n",
    "        for product in self.inventory:\n",
    "            print(f'Iterating inventory {product}')\n",
    "\n",
    "#3. Find product\n",
    "    def find_product(self,name):\n",
    "        for product in self.inventory:\n",
    "            if product['name'] == name:\n",
    "                print(f'Product finded: {product}')\n",
    "\n",
    "#4. Update Stock\n",
    "    def update_stock(self, name, quantity):\n",
    "        for product in self.inventory: # declaramos el bucle / iniciamos\n",
    "            if product['name'] == name:  # si el producto existe (comprobamos que el nombre esta ya en el carrito)\n",
    "                product['quantity'] = quantity # actualizamos la cantidad\n",
    "                print(f\"quantity of {name} updated {product['quantity']}\")\n",
    "                print(f'Inventory updated{self.inventory}')\n",
    "                return\n",
    "        print(f'{name} is not in the Inventory')\n",
    "            \n"
   ]
  },
  {
   "cell_type": "code",
   "execution_count": 162,
   "metadata": {},
   "outputs": [
    {
     "name": "stdout",
     "output_type": "stream",
     "text": [
      "-------* 1º Method Adding Product *-------\n",
      "Inventory updated [{'name': 'caramelo', 'price': 1, 'quantity': 5}]\n",
      "Inventory updated [{'name': 'caramelo', 'price': 1, 'quantity': 5}, {'name': 'patata', 'price': 1, 'quantity': 4}]\n",
      "Inventory updated [{'name': 'caramelo', 'price': 1, 'quantity': 5}, {'name': 'patata', 'price': 1, 'quantity': 4}, {'name': 'pantalones', 'price': 5, 'quantity': 1}]\n",
      "Inventory updated [{'name': 'caramelo', 'price': 1, 'quantity': 5}, {'name': 'patata', 'price': 1, 'quantity': 4}, {'name': 'pantalones', 'price': 5, 'quantity': 1}, {'name': 'zapato', 'price': 8, 'quantity': 4}]\n",
      "-------* 3º Method Find Product *-------\n",
      "Product finded: {'name': 'caramelo', 'price': 1, 'quantity': 5}\n",
      "-------* 4º Method Update Stock *-------\n",
      "chaqueta is not in the Inventory\n"
     ]
    }
   ],
   "source": [
    "shop = OnlineShop();\n",
    "\n",
    "#1\n",
    "print(f'-------* 1º Method Adding Product *-------')\n",
    "shop.add_product('caramelo', 1 , 5)\n",
    "shop.add_product('patata', 1 , 4)\n",
    "shop.add_product('pantalones', 5 , 1)\n",
    "shop.add_product('zapato', 8 , 4)\n",
    "\n",
    "#2\n",
    "print(f'-------* 2º Method Check Inventory *-------')\n",
    "shop.check_inventory()\n",
    "\n",
    "#3\n",
    "print(f'-------* 3º Method Find Product *-------')\n",
    "shop.find_product('caramelo')\n",
    "\n",
    "#4\n",
    "print(f'-------* 4º Method Update Stock *-------')\n",
    "shop.update_stock('chaqueta',10)\n"
   ]
  }
 ],
 "metadata": {
  "kernelspec": {
   "display_name": "base",
   "language": "python",
   "name": "python3"
  },
  "language_info": {
   "codemirror_mode": {
    "name": "ipython",
    "version": 3
   },
   "file_extension": ".py",
   "mimetype": "text/x-python",
   "name": "python",
   "nbconvert_exporter": "python",
   "pygments_lexer": "ipython3",
   "version": "3.9.12"
  }
 },
 "nbformat": 4,
 "nbformat_minor": 2
}
