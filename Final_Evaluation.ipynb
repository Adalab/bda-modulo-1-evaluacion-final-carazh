{
 "cells": [
  {
   "cell_type": "code",
   "execution_count": 49,
   "metadata": {},
   "outputs": [],
   "source": [
    "class OnlineShop: \n",
    "    def __init__(self):\n",
    "        self.inventory = []\n",
    "#1. Adding product        \n",
    "    def add_product(self, name, price, quantity):\n",
    "        for product in self.inventory: # declaramos el bucle / iniciamos\n",
    "            if product['name'] == name:  # si el producto existe (comprobamos que el nombre esta ya en el carrito)\n",
    "                product['quantity'] += quantity # aumentamos la cantidad\n",
    "                print(f\"quantity of {name} updated {product['quantity']}\")\n",
    "                print(f'Inventory updated{self.inventory}')\n",
    "                return\n",
    "            \n",
    "        new_product = {'name': name,'price': price, 'quantity':quantity}\n",
    "            \n",
    "        self.inventory.append(new_product)\n",
    "        print(f'Inventory updated {self.inventory}')\n",
    "\n",
    "#2. Check inventory\n",
    "    def check_inventory(self):\n",
    "        if self.inventory:\n",
    "            print(f'Inventory is not empty, showing content: {self.inventory}')\n",
    "        else:\n",
    "            print(f'Inventory is empty')\n",
    "        for product in self.inventory:\n",
    "            print(f'Iterating inventory {product}')\n",
    "            \n",
    "      \n",
    "    \n",
    "\n",
    "        \n",
    "\n",
    "\n",
    "\n",
    "            "
   ]
  },
  {
   "cell_type": "code",
   "execution_count": 50,
   "metadata": {},
   "outputs": [
    {
     "name": "stdout",
     "output_type": "stream",
     "text": [
      "-------* 1º Method *-------\n",
      "Inventory updated [{'name': 'caramelo', 'price': 1, 'quantity': 5}]\n",
      "quantity of caramelo updated 9\n",
      "Inventory updated[{'name': 'caramelo', 'price': 1, 'quantity': 9}]\n",
      "Inventory updated [{'name': 'caramelo', 'price': 1, 'quantity': 9}, {'name': 'zapato', 'price': 5, 'quantity': 1}]\n",
      "quantity of zapato updated 5\n",
      "Inventory updated[{'name': 'caramelo', 'price': 1, 'quantity': 9}, {'name': 'zapato', 'price': 5, 'quantity': 5}]\n",
      "-------* 2º Method *-------\n",
      "Inventory is not empty, showing content: [{'name': 'caramelo', 'price': 1, 'quantity': 9}, {'name': 'zapato', 'price': 5, 'quantity': 5}]\n",
      "Iterating inventory {'name': 'caramelo', 'price': 1, 'quantity': 9}\n",
      "Iterating inventory {'name': 'zapato', 'price': 5, 'quantity': 5}\n"
     ]
    }
   ],
   "source": [
    "shop = OnlineShop();\n",
    "#1\n",
    "print(f'-------* 1º Method *-------')\n",
    "shop.add_product('caramelo', 1 , 5)\n",
    "shop.add_product('caramelo', 1 , 4)\n",
    "shop.add_product('zapato', 5 , 1)\n",
    "shop.add_product('zapato', 8 , 4)\n",
    "\n",
    "#2\n",
    "print(f'-------* 2º Method *-------')\n",
    "shop.check_inventory()"
   ]
  }
 ],
 "metadata": {
  "kernelspec": {
   "display_name": "base",
   "language": "python",
   "name": "python3"
  },
  "language_info": {
   "codemirror_mode": {
    "name": "ipython",
    "version": 3
   },
   "file_extension": ".py",
   "mimetype": "text/x-python",
   "name": "python",
   "nbconvert_exporter": "python",
   "pygments_lexer": "ipython3",
   "version": "3.9.12"
  }
 },
 "nbformat": 4,
 "nbformat_minor": 2
}
